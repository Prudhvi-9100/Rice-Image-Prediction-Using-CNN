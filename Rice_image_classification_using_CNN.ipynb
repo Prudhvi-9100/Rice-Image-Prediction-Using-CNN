{
  "cells": [
    {
      "cell_type": "markdown",
      "source": [
        "#Zip file path"
      ],
      "metadata": {
        "id": "m0RtYcjw3tYq"
      }
    },
    {
      "cell_type": "code",
      "execution_count": null,
      "metadata": {
        "id": "jYrGWsy-M7HB"
      },
      "outputs": [],
      "source": [
        "filepath = \"/content/drive/MyDrive/Colab Notebooks/Datasets/Rice Image Dataset.zip\""
      ]
    },
    {
      "cell_type": "markdown",
      "source": [
        "#Extracting the Zip file"
      ],
      "metadata": {
        "id": "3V-4VOq91yme"
      }
    },
    {
      "cell_type": "code",
      "execution_count": null,
      "metadata": {
        "colab": {
          "base_uri": "https://localhost:8080/"
        },
        "id": "yQ-fr6zNN9bv",
        "outputId": "48e1a38f-a0e4-4ca8-ff96-3075706fb7b0"
      },
      "outputs": [
        {
          "output_type": "stream",
          "name": "stdout",
          "text": [
            "Data extracted\n"
          ]
        }
      ],
      "source": [
        "from zipfile import ZipFile\n",
        "\n",
        "with ZipFile(filepath) as f:\n",
        "  f.extractall(\"./RiceImagedataset\")\n",
        "  print(\"Data extracted\")"
      ]
    },
    {
      "cell_type": "markdown",
      "source": [
        "#Importing modules"
      ],
      "metadata": {
        "id": "hzyrmQVO15mC"
      }
    },
    {
      "cell_type": "code",
      "execution_count": null,
      "metadata": {
        "id": "-TFMlqvgOzkN"
      },
      "outputs": [],
      "source": [
        "import tensorflow as tf\n",
        "from PIL import Image\n",
        "from tensorflow.keras import layers"
      ]
    },
    {
      "cell_type": "markdown",
      "source": [
        "#Checking the size of an image"
      ],
      "metadata": {
        "id": "l6oAaKnX1_Qb"
      }
    },
    {
      "cell_type": "code",
      "execution_count": null,
      "metadata": {
        "colab": {
          "base_uri": "https://localhost:8080/"
        },
        "id": "PQtnKshQO6VI",
        "outputId": "1caad7f0-87da-472e-a82e-db314464daac"
      },
      "outputs": [
        {
          "output_type": "execute_result",
          "data": {
            "text/plain": [
              "(250, 250)"
            ]
          },
          "metadata": {},
          "execution_count": 3
        }
      ],
      "source": [
        "image = Image.open(\"/content/RiceImagedataset/Rice_Image_Dataset/Arborio/Arborio (1).jpg\")\n",
        "image.size"
      ]
    },
    {
      "cell_type": "markdown",
      "source": [
        "#Reading the dataset from directory"
      ],
      "metadata": {
        "id": "pRCIZmTB2EG7"
      }
    },
    {
      "cell_type": "code",
      "source": [
        "data = tf.keras.utils.image_dataset_from_directory(\n",
        "    \"/content/RiceImagedataset/Rice_Image_Dataset\",\n",
        "    image_size=(32,32),\n",
        "    color_mode=\"rgb\",\n",
        "    batch_size=75000\n",
        ")"
      ],
      "metadata": {
        "colab": {
          "base_uri": "https://localhost:8080/"
        },
        "id": "s6zXg9LjUkkG",
        "outputId": "47fce905-93eb-4261-c23e-94898423a857"
      },
      "execution_count": null,
      "outputs": [
        {
          "output_type": "stream",
          "name": "stdout",
          "text": [
            "Found 75000 files belonging to 5 classes.\n"
          ]
        }
      ]
    },
    {
      "cell_type": "code",
      "source": [
        "len(data)"
      ],
      "metadata": {
        "colab": {
          "base_uri": "https://localhost:8080/"
        },
        "id": "Qf8hGmWeZW5b",
        "outputId": "d8478de1-cb48-4b3c-df48-b280b25da2c9"
      },
      "execution_count": null,
      "outputs": [
        {
          "output_type": "execute_result",
          "data": {
            "text/plain": [
              "1"
            ]
          },
          "metadata": {},
          "execution_count": 12
        }
      ]
    },
    {
      "cell_type": "markdown",
      "source": [
        "#Creating layers for a model"
      ],
      "metadata": {
        "id": "yoHGfwkl2UES"
      }
    },
    {
      "cell_type": "code",
      "source": [
        "model=tf.keras.Sequential([\n",
        "    layers.Conv2D(18,5,padding=\"same\", activation=\"relu\", input_shape=(32,32,3)),\n",
        "    layers.MaxPool2D(),\n",
        "    layers.Conv2D(18,3,padding=\"same\", activation=\"leaky_relu\"),\n",
        "    layers.MaxPool2D(),\n",
        "    layers.Conv2D(36,3,padding=\"same\", activation=\"leaky_relu\"),\n",
        "    layers.MaxPool2D(),\n",
        "    layers.Conv2D(36,3,padding=\"same\", activation=\"leaky_relu\"),\n",
        "    layers.MaxPool2D(),\n",
        "    layers.Flatten(),\n",
        "    layers.Dense(100,activation=\"relu\"),\n",
        "    layers.Dense(10),\n",
        "    layers.Softmax()\n",
        "])"
      ],
      "metadata": {
        "id": "wBoOB2YoVihR"
      },
      "execution_count": null,
      "outputs": []
    },
    {
      "cell_type": "markdown",
      "source": [
        "#Summary of the model"
      ],
      "metadata": {
        "id": "8QMfmiMr3PAG"
      }
    },
    {
      "cell_type": "code",
      "source": [
        "model.summary()"
      ],
      "metadata": {
        "colab": {
          "base_uri": "https://localhost:8080/"
        },
        "id": "pZDJwbSdV3yq",
        "outputId": "a47c3a33-56f5-42d7-e474-61e17b29711d"
      },
      "execution_count": null,
      "outputs": [
        {
          "output_type": "stream",
          "name": "stdout",
          "text": [
            "Model: \"sequential\"\n",
            "_________________________________________________________________\n",
            " Layer (type)                Output Shape              Param #   \n",
            "=================================================================\n",
            " conv2d (Conv2D)             (None, 32, 32, 18)        1368      \n",
            "                                                                 \n",
            " max_pooling2d (MaxPooling2D  (None, 16, 16, 18)       0         \n",
            " )                                                               \n",
            "                                                                 \n",
            " conv2d_1 (Conv2D)           (None, 16, 16, 18)        2934      \n",
            "                                                                 \n",
            " max_pooling2d_1 (MaxPooling  (None, 8, 8, 18)         0         \n",
            " 2D)                                                             \n",
            "                                                                 \n",
            " conv2d_2 (Conv2D)           (None, 8, 8, 36)          5868      \n",
            "                                                                 \n",
            " max_pooling2d_2 (MaxPooling  (None, 4, 4, 36)         0         \n",
            " 2D)                                                             \n",
            "                                                                 \n",
            " conv2d_3 (Conv2D)           (None, 4, 4, 36)          11700     \n",
            "                                                                 \n",
            " max_pooling2d_3 (MaxPooling  (None, 2, 2, 36)         0         \n",
            " 2D)                                                             \n",
            "                                                                 \n",
            " flatten (Flatten)           (None, 144)               0         \n",
            "                                                                 \n",
            " dense (Dense)               (None, 100)               14500     \n",
            "                                                                 \n",
            " dense_1 (Dense)             (None, 10)                1010      \n",
            "                                                                 \n",
            " softmax (Softmax)           (None, 10)                0         \n",
            "                                                                 \n",
            "=================================================================\n",
            "Total params: 37,380\n",
            "Trainable params: 37,380\n",
            "Non-trainable params: 0\n",
            "_________________________________________________________________\n"
          ]
        }
      ]
    },
    {
      "cell_type": "markdown",
      "source": [
        "#Compiling the model"
      ],
      "metadata": {
        "id": "2t6WHR_C3Uuo"
      }
    },
    {
      "cell_type": "code",
      "source": [
        "model.compile(\n",
        "    loss = tf.keras.losses.categorical_crossentropy,\n",
        "    optimizer = tf.keras.optimizers.Adam(),\n",
        "    metrics = [\"Accuracy\"]\n",
        ")"
      ],
      "metadata": {
        "id": "qmVr_5OyV68Z"
      },
      "execution_count": null,
      "outputs": []
    },
    {
      "cell_type": "markdown",
      "source": [
        "#Training the model"
      ],
      "metadata": {
        "id": "GBWYPUne3Y63"
      }
    },
    {
      "cell_type": "code",
      "source": [
        "for features,labels in data:\n",
        "    features=tf.divide(features,255)\n",
        "    labels=tf.one_hot(labels,10)\n",
        "    record=model.fit(features,labels,batch_size=75,epochs=100)"
      ],
      "metadata": {
        "colab": {
          "base_uri": "https://localhost:8080/"
        },
        "id": "6pvLWojRV-3m",
        "outputId": "996ec4c3-34ad-499a-aa85-c238671c3723"
      },
      "execution_count": null,
      "outputs": [
        {
          "output_type": "stream",
          "name": "stdout",
          "text": [
            "Epoch 1/100\n",
            "1000/1000 [==============================] - 12s 4ms/step - loss: 0.2080 - Accuracy: 0.9246\n",
            "Epoch 2/100\n",
            "1000/1000 [==============================] - 4s 4ms/step - loss: 0.1076 - Accuracy: 0.9629\n",
            "Epoch 3/100\n",
            "1000/1000 [==============================] - 4s 4ms/step - loss: 0.0922 - Accuracy: 0.9680\n",
            "Epoch 4/100\n",
            "1000/1000 [==============================] - 5s 5ms/step - loss: 0.0676 - Accuracy: 0.9771\n",
            "Epoch 5/100\n",
            "1000/1000 [==============================] - 5s 5ms/step - loss: 0.0471 - Accuracy: 0.9841\n",
            "Epoch 6/100\n",
            "1000/1000 [==============================] - 4s 4ms/step - loss: 0.0401 - Accuracy: 0.9864\n",
            "Epoch 7/100\n",
            "1000/1000 [==============================] - 4s 4ms/step - loss: 0.0343 - Accuracy: 0.9884\n",
            "Epoch 8/100\n",
            "1000/1000 [==============================] - 4s 4ms/step - loss: 0.0316 - Accuracy: 0.9896\n",
            "Epoch 9/100\n",
            "1000/1000 [==============================] - 4s 4ms/step - loss: 0.0275 - Accuracy: 0.9910\n",
            "Epoch 10/100\n",
            "1000/1000 [==============================] - 5s 5ms/step - loss: 0.0253 - Accuracy: 0.9919\n",
            "Epoch 11/100\n",
            "1000/1000 [==============================] - 4s 4ms/step - loss: 0.0234 - Accuracy: 0.9922\n",
            "Epoch 12/100\n",
            "1000/1000 [==============================] - 4s 4ms/step - loss: 0.0236 - Accuracy: 0.9924\n",
            "Epoch 13/100\n",
            "1000/1000 [==============================] - 4s 4ms/step - loss: 0.0197 - Accuracy: 0.9935\n",
            "Epoch 14/100\n",
            "1000/1000 [==============================] - 5s 5ms/step - loss: 0.0201 - Accuracy: 0.9934\n",
            "Epoch 15/100\n",
            "1000/1000 [==============================] - 5s 5ms/step - loss: 0.0176 - Accuracy: 0.9941\n",
            "Epoch 16/100\n",
            "1000/1000 [==============================] - 5s 5ms/step - loss: 0.0171 - Accuracy: 0.9943\n",
            "Epoch 17/100\n",
            "1000/1000 [==============================] - 5s 5ms/step - loss: 0.0170 - Accuracy: 0.9945\n",
            "Epoch 18/100\n",
            "1000/1000 [==============================] - 5s 5ms/step - loss: 0.0167 - Accuracy: 0.9944\n",
            "Epoch 19/100\n",
            "1000/1000 [==============================] - 5s 5ms/step - loss: 0.0142 - Accuracy: 0.9953\n",
            "Epoch 20/100\n",
            "1000/1000 [==============================] - 5s 5ms/step - loss: 0.0151 - Accuracy: 0.9950\n",
            "Epoch 21/100\n",
            "1000/1000 [==============================] - 5s 5ms/step - loss: 0.0138 - Accuracy: 0.9953\n",
            "Epoch 22/100\n",
            "1000/1000 [==============================] - 5s 5ms/step - loss: 0.0130 - Accuracy: 0.9953\n",
            "Epoch 23/100\n",
            "1000/1000 [==============================] - 5s 5ms/step - loss: 0.0118 - Accuracy: 0.9963\n",
            "Epoch 24/100\n",
            "1000/1000 [==============================] - 4s 4ms/step - loss: 0.0121 - Accuracy: 0.9962\n",
            "Epoch 25/100\n",
            "1000/1000 [==============================] - 5s 5ms/step - loss: 0.0103 - Accuracy: 0.9965\n",
            "Epoch 26/100\n",
            "1000/1000 [==============================] - 5s 5ms/step - loss: 0.0109 - Accuracy: 0.9962\n",
            "Epoch 27/100\n",
            "1000/1000 [==============================] - 5s 5ms/step - loss: 0.0089 - Accuracy: 0.9970\n",
            "Epoch 28/100\n",
            "1000/1000 [==============================] - 5s 5ms/step - loss: 0.0110 - Accuracy: 0.9963\n",
            "Epoch 29/100\n",
            "1000/1000 [==============================] - 5s 5ms/step - loss: 0.0084 - Accuracy: 0.9971\n",
            "Epoch 30/100\n",
            "1000/1000 [==============================] - 5s 5ms/step - loss: 0.0089 - Accuracy: 0.9969\n",
            "Epoch 31/100\n",
            "1000/1000 [==============================] - 5s 5ms/step - loss: 0.0095 - Accuracy: 0.9967\n",
            "Epoch 32/100\n",
            "1000/1000 [==============================] - 5s 5ms/step - loss: 0.0095 - Accuracy: 0.9967\n",
            "Epoch 33/100\n",
            "1000/1000 [==============================] - 5s 5ms/step - loss: 0.0084 - Accuracy: 0.9971\n",
            "Epoch 34/100\n",
            "1000/1000 [==============================] - 5s 5ms/step - loss: 0.0076 - Accuracy: 0.9974\n",
            "Epoch 35/100\n",
            "1000/1000 [==============================] - 5s 5ms/step - loss: 0.0106 - Accuracy: 0.9962\n",
            "Epoch 36/100\n",
            "1000/1000 [==============================] - 5s 5ms/step - loss: 0.0070 - Accuracy: 0.9975\n",
            "Epoch 37/100\n",
            "1000/1000 [==============================] - 5s 5ms/step - loss: 0.0075 - Accuracy: 0.9976\n",
            "Epoch 38/100\n",
            "1000/1000 [==============================] - 5s 5ms/step - loss: 0.0069 - Accuracy: 0.9977\n",
            "Epoch 39/100\n",
            "1000/1000 [==============================] - 5s 5ms/step - loss: 0.0083 - Accuracy: 0.9971\n",
            "Epoch 40/100\n",
            "1000/1000 [==============================] - 5s 5ms/step - loss: 0.0086 - Accuracy: 0.9971\n",
            "Epoch 41/100\n",
            "1000/1000 [==============================] - 5s 5ms/step - loss: 0.0058 - Accuracy: 0.9980\n",
            "Epoch 42/100\n",
            "1000/1000 [==============================] - 5s 5ms/step - loss: 0.0048 - Accuracy: 0.9984\n",
            "Epoch 43/100\n",
            "1000/1000 [==============================] - 5s 5ms/step - loss: 0.0089 - Accuracy: 0.9973\n",
            "Epoch 44/100\n",
            "1000/1000 [==============================] - 5s 5ms/step - loss: 0.0054 - Accuracy: 0.9981\n",
            "Epoch 45/100\n",
            "1000/1000 [==============================] - 5s 5ms/step - loss: 0.0061 - Accuracy: 0.9979\n",
            "Epoch 46/100\n",
            "1000/1000 [==============================] - 5s 5ms/step - loss: 0.0075 - Accuracy: 0.9972\n",
            "Epoch 47/100\n",
            "1000/1000 [==============================] - 5s 5ms/step - loss: 0.0057 - Accuracy: 0.9982\n",
            "Epoch 48/100\n",
            "1000/1000 [==============================] - 5s 5ms/step - loss: 0.0050 - Accuracy: 0.9981\n",
            "Epoch 49/100\n",
            "1000/1000 [==============================] - 5s 5ms/step - loss: 0.0066 - Accuracy: 0.9979\n",
            "Epoch 50/100\n",
            "1000/1000 [==============================] - 5s 5ms/step - loss: 0.0044 - Accuracy: 0.9985\n",
            "Epoch 51/100\n",
            "1000/1000 [==============================] - 5s 5ms/step - loss: 0.0063 - Accuracy: 0.9979\n",
            "Epoch 52/100\n",
            "1000/1000 [==============================] - 5s 5ms/step - loss: 0.0059 - Accuracy: 0.9982\n",
            "Epoch 53/100\n",
            "1000/1000 [==============================] - 5s 5ms/step - loss: 0.0049 - Accuracy: 0.9983\n",
            "Epoch 54/100\n",
            "1000/1000 [==============================] - 5s 5ms/step - loss: 0.0053 - Accuracy: 0.9982\n",
            "Epoch 55/100\n",
            "1000/1000 [==============================] - 5s 5ms/step - loss: 0.0038 - Accuracy: 0.9987\n",
            "Epoch 56/100\n",
            "1000/1000 [==============================] - 5s 5ms/step - loss: 0.0050 - Accuracy: 0.9984\n",
            "Epoch 57/100\n",
            "1000/1000 [==============================] - 5s 5ms/step - loss: 0.0064 - Accuracy: 0.9981\n",
            "Epoch 58/100\n",
            "1000/1000 [==============================] - 4s 4ms/step - loss: 0.0040 - Accuracy: 0.9987\n",
            "Epoch 59/100\n",
            "1000/1000 [==============================] - 4s 4ms/step - loss: 0.0054 - Accuracy: 0.9983\n",
            "Epoch 60/100\n",
            "1000/1000 [==============================] - 4s 4ms/step - loss: 0.0048 - Accuracy: 0.9984\n",
            "Epoch 61/100\n",
            "1000/1000 [==============================] - 4s 4ms/step - loss: 0.0068 - Accuracy: 0.9979\n",
            "Epoch 62/100\n",
            "1000/1000 [==============================] - 5s 5ms/step - loss: 0.0035 - Accuracy: 0.9989\n",
            "Epoch 63/100\n",
            "1000/1000 [==============================] - 5s 5ms/step - loss: 0.0063 - Accuracy: 0.9981\n",
            "Epoch 64/100\n",
            "1000/1000 [==============================] - 5s 5ms/step - loss: 0.0039 - Accuracy: 0.9987\n",
            "Epoch 65/100\n",
            "1000/1000 [==============================] - 5s 5ms/step - loss: 0.0042 - Accuracy: 0.9986\n",
            "Epoch 66/100\n",
            "1000/1000 [==============================] - 5s 5ms/step - loss: 0.0040 - Accuracy: 0.9987\n",
            "Epoch 67/100\n",
            "1000/1000 [==============================] - 5s 5ms/step - loss: 0.0057 - Accuracy: 0.9981\n",
            "Epoch 68/100\n",
            "1000/1000 [==============================] - 5s 5ms/step - loss: 0.0034 - Accuracy: 0.9989\n",
            "Epoch 69/100\n",
            "1000/1000 [==============================] - 5s 5ms/step - loss: 0.0048 - Accuracy: 0.9985\n",
            "Epoch 70/100\n",
            "1000/1000 [==============================] - 5s 5ms/step - loss: 0.0036 - Accuracy: 0.9989\n",
            "Epoch 71/100\n",
            "1000/1000 [==============================] - 5s 5ms/step - loss: 0.0050 - Accuracy: 0.9983\n",
            "Epoch 72/100\n",
            "1000/1000 [==============================] - 5s 5ms/step - loss: 0.0027 - Accuracy: 0.9991\n",
            "Epoch 73/100\n",
            "1000/1000 [==============================] - 5s 5ms/step - loss: 0.0061 - Accuracy: 0.9981\n",
            "Epoch 74/100\n",
            "1000/1000 [==============================] - 5s 5ms/step - loss: 0.0051 - Accuracy: 0.9985\n",
            "Epoch 75/100\n",
            "1000/1000 [==============================] - 5s 5ms/step - loss: 0.0035 - Accuracy: 0.9989\n",
            "Epoch 76/100\n",
            "1000/1000 [==============================] - 5s 5ms/step - loss: 0.0045 - Accuracy: 0.9986\n",
            "Epoch 77/100\n",
            "1000/1000 [==============================] - 5s 5ms/step - loss: 0.0023 - Accuracy: 0.9992\n",
            "Epoch 78/100\n",
            "1000/1000 [==============================] - 5s 5ms/step - loss: 0.0045 - Accuracy: 0.9985\n",
            "Epoch 79/100\n",
            "1000/1000 [==============================] - 5s 5ms/step - loss: 0.0044 - Accuracy: 0.9985\n",
            "Epoch 80/100\n",
            "1000/1000 [==============================] - 5s 5ms/step - loss: 0.0031 - Accuracy: 0.9990\n",
            "Epoch 81/100\n",
            "1000/1000 [==============================] - 5s 5ms/step - loss: 0.0040 - Accuracy: 0.9987\n",
            "Epoch 82/100\n",
            "1000/1000 [==============================] - 5s 5ms/step - loss: 0.0033 - Accuracy: 0.9990\n",
            "Epoch 83/100\n",
            "1000/1000 [==============================] - 5s 5ms/step - loss: 0.0032 - Accuracy: 0.9988\n",
            "Epoch 84/100\n",
            "1000/1000 [==============================] - 5s 5ms/step - loss: 0.0060 - Accuracy: 0.9983\n",
            "Epoch 85/100\n",
            "1000/1000 [==============================] - 5s 5ms/step - loss: 0.0031 - Accuracy: 0.9991\n",
            "Epoch 86/100\n",
            "1000/1000 [==============================] - 5s 5ms/step - loss: 0.0025 - Accuracy: 0.9993\n",
            "Epoch 87/100\n",
            "1000/1000 [==============================] - 5s 5ms/step - loss: 0.0056 - Accuracy: 0.9983\n",
            "Epoch 88/100\n",
            "1000/1000 [==============================] - 5s 5ms/step - loss: 0.0021 - Accuracy: 0.9992\n",
            "Epoch 89/100\n",
            "1000/1000 [==============================] - 5s 5ms/step - loss: 0.0030 - Accuracy: 0.9992\n",
            "Epoch 90/100\n",
            "1000/1000 [==============================] - 5s 5ms/step - loss: 0.0049 - Accuracy: 0.9986\n",
            "Epoch 91/100\n",
            "1000/1000 [==============================] - 5s 5ms/step - loss: 0.0026 - Accuracy: 0.9993\n",
            "Epoch 92/100\n",
            "1000/1000 [==============================] - 5s 5ms/step - loss: 0.0032 - Accuracy: 0.9989\n",
            "Epoch 93/100\n",
            "1000/1000 [==============================] - 5s 5ms/step - loss: 0.0042 - Accuracy: 0.9990\n",
            "Epoch 94/100\n",
            "1000/1000 [==============================] - 5s 5ms/step - loss: 0.0029 - Accuracy: 0.9991\n",
            "Epoch 95/100\n",
            "1000/1000 [==============================] - 5s 5ms/step - loss: 0.0039 - Accuracy: 0.9987\n",
            "Epoch 96/100\n",
            "1000/1000 [==============================] - 5s 5ms/step - loss: 0.0026 - Accuracy: 0.9992\n",
            "Epoch 97/100\n",
            "1000/1000 [==============================] - 5s 5ms/step - loss: 0.0021 - Accuracy: 0.9994\n",
            "Epoch 98/100\n",
            "1000/1000 [==============================] - 5s 5ms/step - loss: 0.0013 - Accuracy: 0.9997\n",
            "Epoch 99/100\n",
            "1000/1000 [==============================] - 5s 5ms/step - loss: 0.0065 - Accuracy: 0.9981\n",
            "Epoch 100/100\n",
            "1000/1000 [==============================] - 5s 5ms/step - loss: 0.0026 - Accuracy: 0.9992\n"
          ]
        }
      ]
    },
    {
      "cell_type": "markdown",
      "source": [
        "#Saving the model"
      ],
      "metadata": {
        "id": "WV-40jJW3iKN"
      }
    },
    {
      "cell_type": "code",
      "source": [
        "model.save(\"/content/drive/MyDrive/Colab Notebooks/RiceImage.h5\")"
      ],
      "metadata": {
        "id": "8NX97v_Absgz"
      },
      "execution_count": null,
      "outputs": []
    }
  ],
  "metadata": {
    "accelerator": "GPU",
    "colab": {
      "provenance": []
    },
    "gpuClass": "standard",
    "kernelspec": {
      "display_name": "Python 3",
      "name": "python3"
    },
    "language_info": {
      "name": "python"
    }
  },
  "nbformat": 4,
  "nbformat_minor": 0
}