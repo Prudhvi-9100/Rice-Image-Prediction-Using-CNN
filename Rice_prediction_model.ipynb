{
  "nbformat": 4,
  "nbformat_minor": 0,
  "metadata": {
    "colab": {
      "provenance": []
    },
    "kernelspec": {
      "name": "python3",
      "display_name": "Python 3"
    },
    "language_info": {
      "name": "python"
    }
  },
  "cells": [
    {
      "cell_type": "markdown",
      "source": [
        "#Zip file path"
      ],
      "metadata": {
        "id": "ynoQpAgT4M84"
      }
    },
    {
      "cell_type": "code",
      "execution_count": null,
      "metadata": {
        "id": "pFeA6_z-cIRs"
      },
      "outputs": [],
      "source": [
        "filepath = \"/content/drive/MyDrive/Colab Notebooks/Datasets/Rice Image Dataset.zip\""
      ]
    },
    {
      "cell_type": "markdown",
      "source": [
        "#Extracting the zip file"
      ],
      "metadata": {
        "id": "IPKFKf0V4TnL"
      }
    },
    {
      "cell_type": "code",
      "source": [
        "from zipfile import ZipFile\n",
        "\n",
        "with ZipFile(filepath) as f:\n",
        "  f.extractall(\"./RiceImagedataset\")\n",
        "  print(\"Data extracted\")"
      ],
      "metadata": {
        "colab": {
          "base_uri": "https://localhost:8080/"
        },
        "id": "vqHRlARmcr0S",
        "outputId": "31a5b982-318d-476d-fdde-f93e11e27938"
      },
      "execution_count": null,
      "outputs": [
        {
          "output_type": "stream",
          "name": "stdout",
          "text": [
            "Data extracted\n"
          ]
        }
      ]
    },
    {
      "cell_type": "markdown",
      "source": [
        "#Importing the required modules"
      ],
      "metadata": {
        "id": "LXDM6Ukz4YAM"
      }
    },
    {
      "cell_type": "code",
      "source": [
        "import tensorflow as tf\n",
        "from tensorflow.keras import layers\n",
        "from PIL import Image\n",
        "import numpy as np"
      ],
      "metadata": {
        "id": "zvkDJhZPc6U4"
      },
      "execution_count": null,
      "outputs": []
    },
    {
      "cell_type": "markdown",
      "source": [
        "#Loading the saved model and taking the classes"
      ],
      "metadata": {
        "id": "4bC2sTes4nJ9"
      }
    },
    {
      "cell_type": "code",
      "source": [
        "model = tf.keras.models.load_model(\"/content/drive/MyDrive/Colab Notebooks/RiceImage.h5\")\n",
        "classes = [\n",
        "    \"Arborio\",\n",
        "    \"Basmati\",\n",
        "    \"Ipsala\",\n",
        "    \"Jasmine\",\n",
        "    \"Karacadag\"\n",
        "]\n",
        "model.summary()"
      ],
      "metadata": {
        "colab": {
          "base_uri": "https://localhost:8080/"
        },
        "id": "9b16-FmpdDEX",
        "outputId": "96a073b0-4830-493f-a52a-4a37a038faa4"
      },
      "execution_count": null,
      "outputs": [
        {
          "output_type": "stream",
          "name": "stdout",
          "text": [
            "Model: \"sequential\"\n",
            "_________________________________________________________________\n",
            " Layer (type)                Output Shape              Param #   \n",
            "=================================================================\n",
            " conv2d (Conv2D)             (None, 32, 32, 18)        1368      \n",
            "                                                                 \n",
            " max_pooling2d (MaxPooling2D  (None, 16, 16, 18)       0         \n",
            " )                                                               \n",
            "                                                                 \n",
            " conv2d_1 (Conv2D)           (None, 16, 16, 18)        2934      \n",
            "                                                                 \n",
            " max_pooling2d_1 (MaxPooling  (None, 8, 8, 18)         0         \n",
            " 2D)                                                             \n",
            "                                                                 \n",
            " conv2d_2 (Conv2D)           (None, 8, 8, 36)          5868      \n",
            "                                                                 \n",
            " max_pooling2d_2 (MaxPooling  (None, 4, 4, 36)         0         \n",
            " 2D)                                                             \n",
            "                                                                 \n",
            " conv2d_3 (Conv2D)           (None, 4, 4, 36)          11700     \n",
            "                                                                 \n",
            " max_pooling2d_3 (MaxPooling  (None, 2, 2, 36)         0         \n",
            " 2D)                                                             \n",
            "                                                                 \n",
            " flatten (Flatten)           (None, 144)               0         \n",
            "                                                                 \n",
            " dense (Dense)               (None, 100)               14500     \n",
            "                                                                 \n",
            " dense_1 (Dense)             (None, 10)                1010      \n",
            "                                                                 \n",
            " softmax (Softmax)           (None, 10)                0         \n",
            "                                                                 \n",
            "=================================================================\n",
            "Total params: 37,380\n",
            "Trainable params: 37,380\n",
            "Non-trainable params: 0\n",
            "_________________________________________________________________\n"
          ]
        }
      ]
    },
    {
      "cell_type": "markdown",
      "source": [
        "#Opening the image"
      ],
      "metadata": {
        "id": "eix1xHWU4r4C"
      }
    },
    {
      "cell_type": "code",
      "source": [
        "image = Image.open(\"/content/drive/MyDrive/Colab Notebooks/Datasets/train/Jasmine/Jasmine (9).jpg\")\n",
        "image"
      ],
      "metadata": {
        "colab": {
          "base_uri": "https://localhost:8080/",
          "height": 267
        },
        "id": "YWGMhoJZdqeG",
        "outputId": "bce02591-8934-4569-dc68-c98476aade1f"
      },
      "execution_count": 47,
      "outputs": [
        {
          "output_type": "execute_result",
          "data": {
            "text/plain": [
              "<PIL.JpegImagePlugin.JpegImageFile image mode=RGB size=250x250 at 0x7F58CA377A00>"
            ],
            "image/png": "[encoded data removed]"
          },
          "metadata": {},
          "execution_count": 47
        }
      ]
    },
    {
      "cell_type": "markdown",
      "source": [
        "#Image resize"
      ],
      "metadata": {
        "id": "nHvVCEyz4xgU"
      }
    },
    {
      "cell_type": "code",
      "source": [
        "image = image.resize((32,32))\n",
        "image"
      ],
      "metadata": {
        "colab": {
          "base_uri": "https://localhost:8080/",
          "height": 49
        },
        "id": "H7NdqieVfA2R",
        "outputId": "116836dc-5df8-4b30-9cb1-c585af9350e0"
      },
      "execution_count": 48,
      "outputs": [
        {
          "output_type": "execute_result",
          "data": {
            "text/plain": [
              "<PIL.Image.Image image mode=RGB size=32x32 at 0x7F58CD13A070>"
            ],
            "image/png": "[encoded data removed]"
          },
          "metadata": {},
          "execution_count": 48
        }
      ]
    },
    {
      "cell_type": "markdown",
      "source": [
        "#Creating a function for prediction of model"
      ],
      "metadata": {
        "id": "5WiC0dFf41pt"
      }
    },
    {
      "cell_type": "code",
      "source": [
        "def Pred(final):\n",
        "  image = Image.open(final)\n",
        "  image = image.resize((32,32))\n",
        "  test = tf.reshape(tf.constant(np.array(image)/255), (-1,32,32,3))\n",
        "  preds = model.predict(test, verbose=False)[0]*100\n",
        "  preds = tf.math.round(preds)\n",
        "  confidence = tf.reduce_max(preds)\n",
        "  index = int(tf.where(preds == confidence)[0][0])\n",
        "  pred = classes[index]\n",
        "  return f\"The type of rice is {pred.title()} and it's confidence is {int(confidence)}%\""
      ],
      "metadata": {
        "id": "JMQk4xqvfP92"
      },
      "execution_count": 49,
      "outputs": []
    },
    {
      "cell_type": "markdown",
      "source": [
        "#Prediction of Arborio Rice"
      ],
      "metadata": {
        "id": "xe3bxAlS50ZA"
      }
    },
    {
      "cell_type": "code",
      "source": [
        "img = Image.open(\"/content/drive/MyDrive/Colab Notebooks/Datasets/train/Arborio/Arborio (12).jpg\")\n",
        "img = img.resize((32,32))\n",
        "img"
      ],
      "metadata": {
        "colab": {
          "base_uri": "https://localhost:8080/",
          "height": 49
        },
        "id": "5wZDjhL85KRw",
        "outputId": "2ddc3e32-cf8d-47fb-dfed-e1dd105293d6"
      },
      "execution_count": 59,
      "outputs": [
        {
          "output_type": "execute_result",
          "data": {
            "text/plain": [
              "<PIL.Image.Image image mode=RGB size=32x32 at 0x7F58607DB1F0>"
            ],
            "image/png": "[encoded data removed]"
          },
          "metadata": {},
          "execution_count": 59
        }
      ]
    },
    {
      "cell_type": "code",
      "source": [
        "Pred(\"/content/drive/MyDrive/Colab Notebooks/Datasets/train/Arborio/Arborio (12).jpg\")"
      ],
      "metadata": {
        "colab": {
          "base_uri": "https://localhost:8080/",
          "height": 36
        },
        "id": "5Rc29MsnkE7_",
        "outputId": "c8411ebc-bf40-496d-b7c6-3bf4f3c200bb"
      },
      "execution_count": 60,
      "outputs": [
        {
          "output_type": "execute_result",
          "data": {
            "text/plain": [
              "\"The type of rice is Arborio and it's confidence is 100%\""
            ],
            "application/vnd.google.colaboratory.intrinsic+json": {
              "type": "string"
            }
          },
          "metadata": {},
          "execution_count": 60
        }
      ]
    },
    {
      "cell_type": "markdown",
      "source": [
        "#Prediction of Basmati rice"
      ],
      "metadata": {
        "id": "fYJN9ZtM6Mk5"
      }
    },
    {
      "cell_type": "code",
      "source": [
        "img = Image.open(\"/content/drive/MyDrive/Colab Notebooks/Datasets/train/Basmati/basmati (15).jpg\")\n",
        "img = img.resize((32,32))\n",
        "img"
      ],
      "metadata": {
        "colab": {
          "base_uri": "https://localhost:8080/",
          "height": 49
        },
        "id": "ntsN9WWL6BE_",
        "outputId": "8e1710ee-61f7-40d9-bea8-0705df1d212d"
      },
      "execution_count": 61,
      "outputs": [
        {
          "output_type": "execute_result",
          "data": {
            "text/plain": [
              "<PIL.Image.Image image mode=RGB size=32x32 at 0x7F58CA304760>"
            ],
            "image/png": "[encoded data removed]"
          },
          "metadata": {},
          "execution_count": 61
        }
      ]
    },
    {
      "cell_type": "code",
      "source": [
        "Pred(\"/content/drive/MyDrive/Colab Notebooks/Datasets/train/Basmati/basmati (15).jpg\")"
      ],
      "metadata": {
        "id": "sYc9gzMBmOGE",
        "colab": {
          "base_uri": "https://localhost:8080/",
          "height": 36
        },
        "outputId": "d20a549b-840a-4b33-f9f3-dbb9e320e37a"
      },
      "execution_count": 51,
      "outputs": [
        {
          "output_type": "execute_result",
          "data": {
            "text/plain": [
              "\"The type of rice is Basmati and it's confidence is 100%\""
            ],
            "application/vnd.google.colaboratory.intrinsic+json": {
              "type": "string"
            }
          },
          "metadata": {},
          "execution_count": 51
        }
      ]
    },
    {
      "cell_type": "markdown",
      "source": [
        "#Prediction of Ipsala rice"
      ],
      "metadata": {
        "id": "Lui1ocm86gWL"
      }
    },
    {
      "cell_type": "code",
      "source": [
        "img = Image.open(\"/content/drive/MyDrive/Colab Notebooks/Datasets/train/Ipsala/Ipsala (10).jpg\")\n",
        "img = img.resize((32,32))\n",
        "img"
      ],
      "metadata": {
        "colab": {
          "base_uri": "https://localhost:8080/",
          "height": 49
        },
        "id": "Luri4dJ26k0X",
        "outputId": "3e3e0873-ad9d-4e78-a509-b0f0cd0f6222"
      },
      "execution_count": 62,
      "outputs": [
        {
          "output_type": "execute_result",
          "data": {
            "text/plain": [
              "<PIL.Image.Image image mode=RGB size=32x32 at 0x7F58CA2B8520>"
            ],
            "image/png": "[encoded data removed]"
          },
          "metadata": {},
          "execution_count": 62
        }
      ]
    },
    {
      "cell_type": "code",
      "source": [
        "Pred(\"/content/drive/MyDrive/Colab Notebooks/Datasets/train/Ipsala/Ipsala (10).jpg\")"
      ],
      "metadata": {
        "colab": {
          "base_uri": "https://localhost:8080/",
          "height": 36
        },
        "id": "a8xeoblQ0XoL",
        "outputId": "5ae550bc-a4b8-44f5-a846-21959945cd9a"
      },
      "execution_count": 52,
      "outputs": [
        {
          "output_type": "execute_result",
          "data": {
            "text/plain": [
              "\"The type of rice is Ipsala and it's confidence is 100%\""
            ],
            "application/vnd.google.colaboratory.intrinsic+json": {
              "type": "string"
            }
          },
          "metadata": {},
          "execution_count": 52
        }
      ]
    },
    {
      "cell_type": "markdown",
      "source": [
        "#Prediction of Jasmine rice"
      ],
      "metadata": {
        "id": "p67qIazX6ygw"
      }
    },
    {
      "cell_type": "code",
      "source": [
        "img = Image.open(\"/content/drive/MyDrive/Colab Notebooks/Datasets/train/Jasmine/Jasmine (8).jpg\")\n",
        "img = img.resize((32,32))\n",
        "img"
      ],
      "metadata": {
        "colab": {
          "base_uri": "https://localhost:8080/",
          "height": 49
        },
        "id": "2WgN4f5d65k_",
        "outputId": "fb9e3cc4-eb18-4583-ec2c-22b169a7226a"
      },
      "execution_count": 63,
      "outputs": [
        {
          "output_type": "execute_result",
          "data": {
            "text/plain": [
              "<PIL.Image.Image image mode=RGB size=32x32 at 0x7F58CA2B8070>"
            ],
            "image/png": "[encoded data removed]"
          },
          "metadata": {},
          "execution_count": 63
        }
      ]
    },
    {
      "cell_type": "code",
      "source": [
        "Pred(\"/content/drive/MyDrive/Colab Notebooks/Datasets/train/Jasmine/Jasmine (8).jpg\")"
      ],
      "metadata": {
        "colab": {
          "base_uri": "https://localhost:8080/",
          "height": 36
        },
        "id": "04KuLdWc0c6_",
        "outputId": "f77e0b9f-6eb7-477e-f376-59d82a35cb4a"
      },
      "execution_count": 64,
      "outputs": [
        {
          "output_type": "execute_result",
          "data": {
            "text/plain": [
              "\"The type of rice is Jasmine and it's confidence is 100%\""
            ],
            "application/vnd.google.colaboratory.intrinsic+json": {
              "type": "string"
            }
          },
          "metadata": {},
          "execution_count": 64
        }
      ]
    },
    {
      "cell_type": "markdown",
      "source": [
        "#Prediction of Karacadag rice"
      ],
      "metadata": {
        "id": "VtqTrFFB7P_x"
      }
    },
    {
      "cell_type": "code",
      "source": [
        "img = Image.open(\"/content/drive/MyDrive/Colab Notebooks/Datasets/train/Karacadag/Karacadag (1).jpg\")\n",
        "img = img.resize((32,32))\n",
        "img"
      ],
      "metadata": {
        "colab": {
          "base_uri": "https://localhost:8080/",
          "height": 49
        },
        "id": "Jm9yl9mB7FRQ",
        "outputId": "bdab1141-a988-450e-883f-f0f58f572ed1"
      },
      "execution_count": 65,
      "outputs": [
        {
          "output_type": "execute_result",
          "data": {
            "text/plain": [
              "<PIL.Image.Image image mode=RGB size=32x32 at 0x7F58CA369310>"
            ],
            "image/png": "[encoded data removed]"
          },
          "metadata": {},
          "execution_count": 65
        }
      ]
    },
    {
      "cell_type": "code",
      "source": [
        "Pred(\"/content/drive/MyDrive/Colab Notebooks/Datasets/train/Karacadag/Karacadag (1).jpg\")"
      ],
      "metadata": {
        "colab": {
          "base_uri": "https://localhost:8080/",
          "height": 36
        },
        "id": "p8OtwC1b0isu",
        "outputId": "eaa47db6-5543-4fd3-93b6-fb217f56d97d"
      },
      "execution_count": 66,
      "outputs": [
        {
          "output_type": "execute_result",
          "data": {
            "text/plain": [
              "\"The type of rice is Karacadag and it's confidence is 100%\""
            ],
            "application/vnd.google.colaboratory.intrinsic+json": {
              "type": "string"
            }
          },
          "metadata": {},
          "execution_count": 66
        }
      ]
    }
  ]
}